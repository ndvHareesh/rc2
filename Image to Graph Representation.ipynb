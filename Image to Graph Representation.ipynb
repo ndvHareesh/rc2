{
 "cells": [
  {
   "cell_type": "code",
   "execution_count": 1,
   "id": "e9d415ee",
   "metadata": {},
   "outputs": [
    {
     "name": "stdout",
     "output_type": "stream",
     "text": [
      "[[ 0. 10.  0. 35. 45.  0.  0.  0.  0.]\n",
      " [ 0.  0. 10. 25. 35. 40.  0.  0.  0.]\n",
      " [ 0.  0.  0.  0. 25. 30.  0.  0.  0.]\n",
      " [ 0.  0.  0.  0. 10.  0. 30.  3.  0.]\n",
      " [ 0.  0.  0.  0.  0.  5. 20.  0.  0.]\n",
      " [ 0.  0.  0.  0.  0.  0.  0.  0.  0.]\n",
      " [ 0.  0.  0.  0.  0.  0.  0.  0.  0.]\n",
      " [ 0.  0.  0.  0.  7. 12. 27.  0.  1.]\n",
      " [ 0.  0.  0.  0.  6. 11.  0.  0.  0.]]\n"
     ]
    }
   ],
   "source": [
    "import numpy as np\n",
    "import networkx as nx\n",
    "import matplotlib.pyplot as plt\n",
    "\n",
    "# Load image as a numpy array\n",
    "image = np.array([[10,20,30],[45,55,60],[75,48,49]])\n",
    "\n",
    "\n",
    "\n",
    "# Create a directed graph\n",
    "G = nx.DiGraph()\n",
    "\n",
    "# Add nodes for each pixel\n",
    "for i in range(image.shape[0]):\n",
    "    for j in range(image.shape[1]):\n",
    "        node_id = (i, j)\n",
    "        node_value = image[i,j]\n",
    "        G.add_node(node_id, value=node_value)\n",
    "\n",
    "# Connect neighboring pixels with directed edges and add weights\n",
    "for i in range(image.shape[0]):\n",
    "    for j in range(image.shape[1]):\n",
    "        source_id = (i, j)\n",
    "        for di, dj in [(-1, 0), (1, 0), (0, -1), (0, 1),(-1,-1),(-1,1),(1,-1),(1,1)]:\n",
    "            # Check if neighbor is within image boundaries\n",
    "            if i+di >= 0 and i+di < image.shape[0] and j+dj >= 0 and j+dj < image.shape[1]:\n",
    "                target_id = (i+di, j+dj)\n",
    "                source_value = G.nodes[source_id][\"value\"]\n",
    "                target_value = G.nodes[target_id][\"value\"]\n",
    "                weight = (target_value - source_value)\n",
    "                if weight< 0:\n",
    "                    weight = 0 \n",
    "                G.add_edge(source_id, target_id, weight=weight)\n",
    "\n",
    "\n",
    "adj_matrix = nx.to_numpy_matrix(G)\n",
    "# Show adjacency matrix\n",
    "print(adj_matrix)\n",
    "\n",
    "\n",
    "# pos = {node_id: node_id for node_id in G.nodes()}\n",
    "# edge_weights = [G.edges[edge][\"weight\"] for edge in G.edges()]\n",
    "# nx.draw(G, pos, node_size=5, width=0.5, edge_cmap=plt.cm.Greys, edge_vmin=0, edge_vmax=np.max(edge_weights))\n",
    "# plt.show()"
   ]
  },
  {
   "cell_type": "code",
   "execution_count": null,
   "id": "2252b3e0",
   "metadata": {},
   "outputs": [],
   "source": []
  },
  {
   "cell_type": "code",
   "execution_count": 2,
   "id": "6edd780f",
   "metadata": {},
   "outputs": [],
   "source": [
    "# Below, Its not same as in paper"
   ]
  },
  {
   "cell_type": "code",
   "execution_count": 3,
   "id": "d0ba13a5",
   "metadata": {},
   "outputs": [
    {
     "name": "stdout",
     "output_type": "stream",
     "text": [
      "Outcloseness centrality:\n",
      "Node (0, 0): 0.6154\n",
      "Node (0, 1): 0.7273\n",
      "Node (0, 2): 0.6154\n",
      "Node (1, 0): 0.7273\n",
      "Node (1, 1): 1.0000\n",
      "Node (1, 2): 0.7273\n",
      "Node (2, 0): 0.6154\n",
      "Node (2, 1): 0.7273\n",
      "Node (2, 2): 0.6154\n"
     ]
    }
   ],
   "source": [
    "outcloseness = nx.closeness_centrality(G)\n",
    "\n",
    "# Show results\n",
    "print('Outcloseness centrality:')\n",
    "for node, outcloseness_centrality in outcloseness.items():\n",
    "    print(f'Node {node}: {outcloseness_centrality:.4f}')"
   ]
  },
  {
   "cell_type": "code",
   "execution_count": 4,
   "id": "ee7743a1",
   "metadata": {},
   "outputs": [],
   "source": [
    "## The End"
   ]
  }
 ],
 "metadata": {
  "kernelspec": {
   "display_name": "Python 3 (ipykernel)",
   "language": "python",
   "name": "python3"
  },
  "language_info": {
   "codemirror_mode": {
    "name": "ipython",
    "version": 3
   },
   "file_extension": ".py",
   "mimetype": "text/x-python",
   "name": "python",
   "nbconvert_exporter": "python",
   "pygments_lexer": "ipython3",
   "version": "3.8.8"
  }
 },
 "nbformat": 4,
 "nbformat_minor": 5
}
